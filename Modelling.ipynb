{
  "nbformat": 4,
  "nbformat_minor": 0,
  "metadata": {
    "colab": {
      "name": "Modelling.ipynb",
      "provenance": [],
      "collapsed_sections": []
    },
    "kernelspec": {
      "display_name": "Python 3",
      "name": "python3"
    },
    "language_info": {
      "name": "python"
    }
  },
  "cells": [
    {
      "cell_type": "code",
      "metadata": {
        "id": "sdvFpGWODgav"
      },
      "source": [
        "import pandas as pd\n",
        "import numpy as np\n",
        "import matplotlib.pyplot as plt\n",
        "import seaborn as sns\n",
        "%matplotlib inline\n",
        "plt.style.use('fivethirtyeight')"
      ],
      "execution_count": null,
      "outputs": []
    },
    {
      "cell_type": "code",
      "metadata": {
        "id": "dxOK9WEXEGUr"
      },
      "source": [
        "df = pd.read_csv(r'/content/bank_traffic_data.csv')"
      ],
      "execution_count": null,
      "outputs": []
    },
    {
      "cell_type": "code",
      "metadata": {
        "colab": {
          "base_uri": "https://localhost:8080/",
          "height": 204
        },
        "id": "sjMm0ekPEePH",
        "outputId": "c9514bf7-09f5-41e0-8a03-895ff281fe51"
      },
      "source": [
        "df.head()"
      ],
      "execution_count": null,
      "outputs": [
        {
          "data": {
            "text/html": [
              "<div>\n",
              "<style scoped>\n",
              "    .dataframe tbody tr th:only-of-type {\n",
              "        vertical-align: middle;\n",
              "    }\n",
              "\n",
              "    .dataframe tbody tr th {\n",
              "        vertical-align: top;\n",
              "    }\n",
              "\n",
              "    .dataframe thead th {\n",
              "        text-align: right;\n",
              "    }\n",
              "</style>\n",
              "<table border=\"1\" class=\"dataframe\">\n",
              "  <thead>\n",
              "    <tr style=\"text-align: right;\">\n",
              "      <th></th>\n",
              "      <th>timestamp</th>\n",
              "      <th>count</th>\n",
              "      <th>window</th>\n",
              "    </tr>\n",
              "  </thead>\n",
              "  <tbody>\n",
              "    <tr>\n",
              "      <th>0</th>\n",
              "      <td>2019-09-26 02:00:00+02:00</td>\n",
              "      <td>764</td>\n",
              "      <td>1</td>\n",
              "    </tr>\n",
              "    <tr>\n",
              "      <th>1</th>\n",
              "      <td>2019-09-27 02:00:00+02:00</td>\n",
              "      <td>0</td>\n",
              "      <td>1</td>\n",
              "    </tr>\n",
              "    <tr>\n",
              "      <th>2</th>\n",
              "      <td>2019-09-28 02:00:00+02:00</td>\n",
              "      <td>0</td>\n",
              "      <td>1</td>\n",
              "    </tr>\n",
              "    <tr>\n",
              "      <th>3</th>\n",
              "      <td>2019-09-29 02:00:00+02:00</td>\n",
              "      <td>1973</td>\n",
              "      <td>1</td>\n",
              "    </tr>\n",
              "    <tr>\n",
              "      <th>4</th>\n",
              "      <td>2019-09-30 02:00:00+02:00</td>\n",
              "      <td>1908</td>\n",
              "      <td>1</td>\n",
              "    </tr>\n",
              "  </tbody>\n",
              "</table>\n",
              "</div>"
            ],
            "text/plain": [
              "                   timestamp  count  window\n",
              "0  2019-09-26 02:00:00+02:00    764       1\n",
              "1  2019-09-27 02:00:00+02:00      0       1\n",
              "2  2019-09-28 02:00:00+02:00      0       1\n",
              "3  2019-09-29 02:00:00+02:00   1973       1\n",
              "4  2019-09-30 02:00:00+02:00   1908       1"
            ]
          },
          "execution_count": 3,
          "metadata": {},
          "output_type": "execute_result"
        }
      ]
    },
    {
      "cell_type": "code",
      "metadata": {
        "colab": {
          "base_uri": "https://localhost:8080/"
        },
        "id": "nfXKGV9_Eg-p",
        "outputId": "29c1c3a0-375c-4cd0-a6a1-621ac8443d27"
      },
      "source": [
        "df.shape"
      ],
      "execution_count": null,
      "outputs": [
        {
          "data": {
            "text/plain": [
              "(10013, 3)"
            ]
          },
          "execution_count": 4,
          "metadata": {},
          "output_type": "execute_result"
        }
      ]
    },
    {
      "cell_type": "code",
      "metadata": {
        "colab": {
          "base_uri": "https://localhost:8080/"
        },
        "id": "GQ7BDjCxEkzP",
        "outputId": "c1f1401d-f77f-49aa-cfa1-849ed7abc43b"
      },
      "source": [
        "df.info()"
      ],
      "execution_count": null,
      "outputs": [
        {
          "name": "stdout",
          "output_type": "stream",
          "text": [
            "<class 'pandas.core.frame.DataFrame'>\n",
            "RangeIndex: 10013 entries, 0 to 10012\n",
            "Data columns (total 3 columns):\n",
            " #   Column     Non-Null Count  Dtype \n",
            "---  ------     --------------  ----- \n",
            " 0   timestamp  10013 non-null  object\n",
            " 1   count      10013 non-null  int64 \n",
            " 2   window     10013 non-null  int64 \n",
            "dtypes: int64(2), object(1)\n",
            "memory usage: 234.8+ KB\n"
          ]
        }
      ]
    },
    {
      "cell_type": "code",
      "metadata": {
        "id": "dS4iqkrYEqHJ"
      },
      "source": [
        "df['timestamp'] = pd.to_datetime(df['timestamp'])"
      ],
      "execution_count": null,
      "outputs": []
    },
    {
      "cell_type": "code",
      "metadata": {
        "colab": {
          "base_uri": "https://localhost:8080/"
        },
        "id": "KDgbcI3SE6aH",
        "outputId": "b144573d-b84b-4bb4-acc3-1b5a19fd77a2"
      },
      "source": [
        "df.duplicated().sum()"
      ],
      "execution_count": null,
      "outputs": [
        {
          "data": {
            "text/plain": [
              "0"
            ]
          },
          "execution_count": 7,
          "metadata": {},
          "output_type": "execute_result"
        }
      ]
    },
    {
      "cell_type": "code",
      "metadata": {
        "colab": {
          "base_uri": "https://localhost:8080/"
        },
        "id": "tWNFXiZCGGaD",
        "outputId": "65b7dece-54a9-415e-8078-ed4da3fa9766"
      },
      "source": [
        "df.info()"
      ],
      "execution_count": null,
      "outputs": [
        {
          "name": "stdout",
          "output_type": "stream",
          "text": [
            "<class 'pandas.core.frame.DataFrame'>\n",
            "RangeIndex: 10013 entries, 0 to 10012\n",
            "Data columns (total 3 columns):\n",
            " #   Column     Non-Null Count  Dtype                                \n",
            "---  ------     --------------  -----                                \n",
            " 0   timestamp  10013 non-null  datetime64[ns, pytz.FixedOffset(120)]\n",
            " 1   count      10013 non-null  int64                                \n",
            " 2   window     10013 non-null  int64                                \n",
            "dtypes: datetime64[ns, pytz.FixedOffset(120)](1), int64(2)\n",
            "memory usage: 234.8 KB\n"
          ]
        }
      ]
    },
    {
      "cell_type": "code",
      "metadata": {
        "id": "zBGOz5cbInQa"
      },
      "source": [
        "df=df.sort_values(by=['timestamp','window']).reset_index(drop=True)"
      ],
      "execution_count": null,
      "outputs": []
    },
    {
      "cell_type": "code",
      "metadata": {
        "colab": {
          "base_uri": "https://localhost:8080/",
          "height": 204
        },
        "id": "Zi53Gj3tJFmz",
        "outputId": "46ffdc1e-4cbc-49ed-b264-3ca06c43fc57"
      },
      "source": [
        "df.head()"
      ],
      "execution_count": null,
      "outputs": [
        {
          "data": {
            "text/html": [
              "<div>\n",
              "<style scoped>\n",
              "    .dataframe tbody tr th:only-of-type {\n",
              "        vertical-align: middle;\n",
              "    }\n",
              "\n",
              "    .dataframe tbody tr th {\n",
              "        vertical-align: top;\n",
              "    }\n",
              "\n",
              "    .dataframe thead th {\n",
              "        text-align: right;\n",
              "    }\n",
              "</style>\n",
              "<table border=\"1\" class=\"dataframe\">\n",
              "  <thead>\n",
              "    <tr style=\"text-align: right;\">\n",
              "      <th></th>\n",
              "      <th>timestamp</th>\n",
              "      <th>count</th>\n",
              "      <th>window</th>\n",
              "    </tr>\n",
              "  </thead>\n",
              "  <tbody>\n",
              "    <tr>\n",
              "      <th>0</th>\n",
              "      <td>2019-09-26 02:00:00+02:00</td>\n",
              "      <td>764</td>\n",
              "      <td>1</td>\n",
              "    </tr>\n",
              "    <tr>\n",
              "      <th>1</th>\n",
              "      <td>2019-09-26 02:00:00+02:00</td>\n",
              "      <td>320</td>\n",
              "      <td>2</td>\n",
              "    </tr>\n",
              "    <tr>\n",
              "      <th>2</th>\n",
              "      <td>2019-09-26 02:00:00+02:00</td>\n",
              "      <td>113</td>\n",
              "      <td>3</td>\n",
              "    </tr>\n",
              "    <tr>\n",
              "      <th>3</th>\n",
              "      <td>2019-09-26 02:00:00+02:00</td>\n",
              "      <td>101</td>\n",
              "      <td>4</td>\n",
              "    </tr>\n",
              "    <tr>\n",
              "      <th>4</th>\n",
              "      <td>2019-09-26 02:00:00+02:00</td>\n",
              "      <td>101</td>\n",
              "      <td>5</td>\n",
              "    </tr>\n",
              "  </tbody>\n",
              "</table>\n",
              "</div>"
            ],
            "text/plain": [
              "                  timestamp  count  window\n",
              "0 2019-09-26 02:00:00+02:00    764       1\n",
              "1 2019-09-26 02:00:00+02:00    320       2\n",
              "2 2019-09-26 02:00:00+02:00    113       3\n",
              "3 2019-09-26 02:00:00+02:00    101       4\n",
              "4 2019-09-26 02:00:00+02:00    101       5"
            ]
          },
          "execution_count": 10,
          "metadata": {},
          "output_type": "execute_result"
        }
      ]
    },
    {
      "cell_type": "code",
      "metadata": {
        "id": "3xMAjjAvOR_Y"
      },
      "source": [
        "test_start = df[df['timestamp'] == '2021-07-01 02:00:00+02:00'].index[0]\n",
        "valid_start = df[df['timestamp'] == '2021-06-01 02:00:00+02:00'].index[0]"
      ],
      "execution_count": null,
      "outputs": []
    },
    {
      "cell_type": "code",
      "metadata": {
        "id": "DWhtHN2VQTUB"
      },
      "source": [
        "train = df[:valid_start]\n",
        "valid = df[valid_start:test_start]\n",
        "test = df[test_start:]"
      ],
      "execution_count": null,
      "outputs": []
    },
    {
      "cell_type": "code",
      "metadata": {
        "id": "U84xm-HcSarO"
      },
      "source": [
        "X_train ,y_train = train.drop('count',axis=1),train['count']\n",
        "X_valid ,y_valid = valid.drop('count',axis=1),valid['count']\n",
        "X_test ,y_test = test.drop('count',axis=1),test['count']"
      ],
      "execution_count": null,
      "outputs": []
    },
    {
      "cell_type": "markdown",
      "metadata": {
        "id": "s10l5edWSNUJ"
      },
      "source": [
        "ML"
      ]
    },
    {
      "cell_type": "code",
      "metadata": {
        "colab": {
          "base_uri": "https://localhost:8080/"
        },
        "id": "CiZ3-GTjRdRh",
        "outputId": "d2f74e6d-62e8-4a78-8d12-50b028de87fd"
      },
      "source": [
        "X_train['day'] = X_train['timestamp'].dt.day\n",
        "X_train['month'] = X_train['timestamp'].dt.month\n",
        "X_train['year'] = X_train['timestamp'].dt.year\n",
        "X_train['dayofweek'] = X_train['timestamp'].dt.dayofweek\n",
        "X_train['dayofyear'] = X_train['timestamp'].dt.dayofyear\n",
        "X_train['weekofyear'] = X_train['timestamp'].dt.weekofyear\n",
        "X_train['is_wknd'] = X_train['timestamp'].dt.weekday // 4\n",
        "X_train['is_month_start'] = X_train['timestamp'].dt.is_month_start.astype(int)\n",
        "X_train['is_month_end'] = X_train['timestamp'].dt.is_month_end.astype(int)\n",
        "\n",
        "X_valid['day'] = X_valid['timestamp'].dt.day\n",
        "X_valid['month'] = X_valid['timestamp'].dt.month\n",
        "X_valid['year'] = X_valid['timestamp'].dt.year\n",
        "X_valid['dayofweek'] = X_valid['timestamp'].dt.dayofweek\n",
        "X_valid['dayofyear'] = X_valid['timestamp'].dt.dayofyear\n",
        "X_valid['weekofyear'] = X_valid['timestamp'].dt.weekofyear\n",
        "X_valid['is_wknd'] = X_valid['timestamp'].dt.weekday // 4\n",
        "X_valid['is_month_start'] = X_valid['timestamp'].dt.is_month_start.astype(int)\n",
        "X_valid['is_month_end'] = X_valid['timestamp'].dt.is_month_end.astype(int)\n",
        "\n",
        "X_test['day'] = X_test['timestamp'].dt.day\n",
        "X_test['month'] = X_test['timestamp'].dt.month\n",
        "X_test['year'] = X_test['timestamp'].dt.year\n",
        "X_test['dayofweek'] = X_test['timestamp'].dt.dayofweek\n",
        "X_test['dayofyear'] = X_test['timestamp'].dt.dayofyear\n",
        "X_test['weekofyear'] = X_test['timestamp'].dt.weekofyear\n",
        "X_test['is_wknd'] = X_test['timestamp'].dt.weekday // 4\n",
        "X_test['is_month_start'] = X_test['timestamp'].dt.is_month_start.astype(int)\n",
        "X_test['is_month_end'] = X_test['timestamp'].dt.is_month_end.astype(int)\n",
        "\n",
        "X_train.drop('timestamp',axis=1,inplace=True)\n",
        "X_valid.drop('timestamp',axis=1,inplace=True)\n",
        "X_test.drop('timestamp',axis=1,inplace=True)"
      ],
      "execution_count": null,
      "outputs": [
        {
          "name": "stderr",
          "output_type": "stream",
          "text": [
            "/usr/local/lib/python3.7/dist-packages/ipykernel_launcher.py:6: FutureWarning: Series.dt.weekofyear and Series.dt.week have been deprecated.  Please use Series.dt.isocalendar().week instead.\n",
            "  \n",
            "/usr/local/lib/python3.7/dist-packages/ipykernel_launcher.py:16: FutureWarning: Series.dt.weekofyear and Series.dt.week have been deprecated.  Please use Series.dt.isocalendar().week instead.\n",
            "  app.launch_new_instance()\n",
            "/usr/local/lib/python3.7/dist-packages/ipykernel_launcher.py:26: FutureWarning: Series.dt.weekofyear and Series.dt.week have been deprecated.  Please use Series.dt.isocalendar().week instead.\n"
          ]
        }
      ]
    },
    {
      "cell_type": "code",
      "metadata": {
        "colab": {
          "base_uri": "https://localhost:8080/",
          "height": 204
        },
        "id": "5mEk3n1wiXO6",
        "outputId": "9fb4c7c3-75b7-4076-ca1d-cb349d85c2d9"
      },
      "source": [
        "X_train.head()"
      ],
      "execution_count": null,
      "outputs": [
        {
          "data": {
            "text/html": [
              "<div>\n",
              "<style scoped>\n",
              "    .dataframe tbody tr th:only-of-type {\n",
              "        vertical-align: middle;\n",
              "    }\n",
              "\n",
              "    .dataframe tbody tr th {\n",
              "        vertical-align: top;\n",
              "    }\n",
              "\n",
              "    .dataframe thead th {\n",
              "        text-align: right;\n",
              "    }\n",
              "</style>\n",
              "<table border=\"1\" class=\"dataframe\">\n",
              "  <thead>\n",
              "    <tr style=\"text-align: right;\">\n",
              "      <th></th>\n",
              "      <th>window</th>\n",
              "      <th>day</th>\n",
              "      <th>month</th>\n",
              "      <th>year</th>\n",
              "      <th>dayofweek</th>\n",
              "      <th>dayofyear</th>\n",
              "      <th>weekofyear</th>\n",
              "      <th>is_wknd</th>\n",
              "      <th>is_month_start</th>\n",
              "      <th>is_month_end</th>\n",
              "    </tr>\n",
              "  </thead>\n",
              "  <tbody>\n",
              "    <tr>\n",
              "      <th>0</th>\n",
              "      <td>1</td>\n",
              "      <td>26</td>\n",
              "      <td>9</td>\n",
              "      <td>2019</td>\n",
              "      <td>3</td>\n",
              "      <td>269</td>\n",
              "      <td>39</td>\n",
              "      <td>0</td>\n",
              "      <td>0</td>\n",
              "      <td>0</td>\n",
              "    </tr>\n",
              "    <tr>\n",
              "      <th>1</th>\n",
              "      <td>2</td>\n",
              "      <td>26</td>\n",
              "      <td>9</td>\n",
              "      <td>2019</td>\n",
              "      <td>3</td>\n",
              "      <td>269</td>\n",
              "      <td>39</td>\n",
              "      <td>0</td>\n",
              "      <td>0</td>\n",
              "      <td>0</td>\n",
              "    </tr>\n",
              "    <tr>\n",
              "      <th>2</th>\n",
              "      <td>3</td>\n",
              "      <td>26</td>\n",
              "      <td>9</td>\n",
              "      <td>2019</td>\n",
              "      <td>3</td>\n",
              "      <td>269</td>\n",
              "      <td>39</td>\n",
              "      <td>0</td>\n",
              "      <td>0</td>\n",
              "      <td>0</td>\n",
              "    </tr>\n",
              "    <tr>\n",
              "      <th>3</th>\n",
              "      <td>4</td>\n",
              "      <td>26</td>\n",
              "      <td>9</td>\n",
              "      <td>2019</td>\n",
              "      <td>3</td>\n",
              "      <td>269</td>\n",
              "      <td>39</td>\n",
              "      <td>0</td>\n",
              "      <td>0</td>\n",
              "      <td>0</td>\n",
              "    </tr>\n",
              "    <tr>\n",
              "      <th>4</th>\n",
              "      <td>5</td>\n",
              "      <td>26</td>\n",
              "      <td>9</td>\n",
              "      <td>2019</td>\n",
              "      <td>3</td>\n",
              "      <td>269</td>\n",
              "      <td>39</td>\n",
              "      <td>0</td>\n",
              "      <td>0</td>\n",
              "      <td>0</td>\n",
              "    </tr>\n",
              "  </tbody>\n",
              "</table>\n",
              "</div>"
            ],
            "text/plain": [
              "   window  day  month  year  ...  weekofyear  is_wknd  is_month_start  is_month_end\n",
              "0       1   26      9  2019  ...          39        0               0             0\n",
              "1       2   26      9  2019  ...          39        0               0             0\n",
              "2       3   26      9  2019  ...          39        0               0             0\n",
              "3       4   26      9  2019  ...          39        0               0             0\n",
              "4       5   26      9  2019  ...          39        0               0             0\n",
              "\n",
              "[5 rows x 10 columns]"
            ]
          },
          "execution_count": 15,
          "metadata": {},
          "output_type": "execute_result"
        }
      ]
    },
    {
      "cell_type": "code",
      "metadata": {
        "id": "i5b9tgdQUGR0"
      },
      "source": [
        "from sklearn.model_selection import cross_val_score\n",
        "from xgboost import XGBRegressor\n",
        "from lightgbm import LGBMRegressor"
      ],
      "execution_count": null,
      "outputs": []
    },
    {
      "cell_type": "code",
      "metadata": {
        "colab": {
          "base_uri": "https://localhost:8080/"
        },
        "id": "hFam8qHfWqrE",
        "outputId": "390aa6f8-3a80-4b50-f3e9-e06b3797aade"
      },
      "source": [
        "xgb = XGBRegressor(n_estimators=30)\n",
        "score = cross_val_score(xgb,X_train,y_train,scoring='neg_mean_absolute_error',cv=5,n_jobs=-1)\n",
        "-score.mean()"
      ],
      "execution_count": null,
      "outputs": [
        {
          "data": {
            "text/plain": [
              "125.21352102171457"
            ]
          },
          "execution_count": 17,
          "metadata": {},
          "output_type": "execute_result"
        }
      ]
    },
    {
      "cell_type": "code",
      "metadata": {
        "colab": {
          "base_uri": "https://localhost:8080/"
        },
        "id": "vvt35QxfXWK4",
        "outputId": "fa18cd0d-d6e3-45b3-a2ca-773ecc5755c4"
      },
      "source": [
        "lgb = LGBMRegressor(n_estimators=40)\n",
        "score = cross_val_score(lgb,X_train,y_train,scoring='neg_mean_absolute_error',cv=5,n_jobs=-1)\n",
        "-score.mean()"
      ],
      "execution_count": null,
      "outputs": [
        {
          "data": {
            "text/plain": [
              "100.18971525853055"
            ]
          },
          "execution_count": 18,
          "metadata": {},
          "output_type": "execute_result"
        }
      ]
    },
    {
      "cell_type": "code",
      "metadata": {
        "colab": {
          "base_uri": "https://localhost:8080/"
        },
        "id": "ZEjyGEaIcDaS",
        "outputId": "5cbef673-8f88-4eaf-ed38-829b8c49a3ed"
      },
      "source": [
        "import lightgbm as lgb\n",
        "params = {'n_estimators' : 25,\n",
        "        \"objective\" : \"regression\",\n",
        "        \"metric\" : \"mae\"\n",
        "\n",
        "    }\n",
        "    \n",
        "lgtrain = lgb.Dataset(X_train, label=y_train)\n",
        "lgval = lgb.Dataset(X_valid, label=y_valid)\n",
        "evals_result = {}\n",
        "model = lgb.train(params, lgtrain, \n",
        "                      valid_sets=[lgtrain, lgval],\n",
        "                    num_boost_round=1100,\n",
        "                  early_stopping_rounds=100,\n",
        "                  verbose_eval=200 ,\n",
        "                      evals_result=evals_result)"
      ],
      "execution_count": null,
      "outputs": [
        {
          "name": "stdout",
          "output_type": "stream",
          "text": [
            "Training until validation scores don't improve for 100 rounds.\n",
            "Did not meet early stopping. Best iteration is:\n",
            "[25]\ttraining's l1: 80.8824\tvalid_1's l1: 137.691\n"
          ]
        },
        {
          "name": "stderr",
          "output_type": "stream",
          "text": [
            "/usr/local/lib/python3.7/dist-packages/lightgbm/engine.py:118: UserWarning: Found `n_estimators` in params. Will use it instead of argument\n",
            "  warnings.warn(\"Found `{}` in params. Will use it instead of argument\".format(alias))\n"
          ]
        }
      ]
    },
    {
      "cell_type": "code",
      "metadata": {
        "id": "FkaPVDKNseUX"
      },
      "source": [
        "ypred = model.predict(X_test,num_iteration=model.best_iteration)"
      ],
      "execution_count": null,
      "outputs": []
    },
    {
      "cell_type": "code",
      "metadata": {
        "id": "0MHfcJrXt2pO"
      },
      "source": [
        "from sklearn.metrics import mean_absolute_error"
      ],
      "execution_count": null,
      "outputs": []
    },
    {
      "cell_type": "code",
      "metadata": {
        "colab": {
          "base_uri": "https://localhost:8080/"
        },
        "id": "POtQvoaLuRq3",
        "outputId": "18e1043b-d2ed-4359-cf05-31d58696ce9f"
      },
      "source": [
        "mean_absolute_error(y_test,ypred)"
      ],
      "execution_count": null,
      "outputs": [
        {
          "data": {
            "text/plain": [
              "177.14332889410966"
            ]
          },
          "execution_count": 22,
          "metadata": {},
          "output_type": "execute_result"
        }
      ]
    },
    {
      "cell_type": "code",
      "metadata": {
        "colab": {
          "base_uri": "https://localhost:8080/"
        },
        "id": "234N5xQY1WEC",
        "outputId": "9309377d-8a50-40fe-868d-a33c90b6f956"
      },
      "source": [
        "xgb = XGBRegressor(n_estimators=30)\n",
        "xgb.fit(X_train.append(X_valid),y_train.append(y_valid))"
      ],
      "execution_count": null,
      "outputs": [
        {
          "name": "stdout",
          "output_type": "stream",
          "text": [
            "[14:58:24] WARNING: /workspace/src/objective/regression_obj.cu:152: reg:linear is now deprecated in favor of reg:squarederror.\n"
          ]
        },
        {
          "data": {
            "text/plain": [
              "XGBRegressor(base_score=0.5, booster='gbtree', colsample_bylevel=1,\n",
              "             colsample_bynode=1, colsample_bytree=1, gamma=0,\n",
              "             importance_type='gain', learning_rate=0.1, max_delta_step=0,\n",
              "             max_depth=3, min_child_weight=1, missing=None, n_estimators=30,\n",
              "             n_jobs=1, nthread=None, objective='reg:linear', random_state=0,\n",
              "             reg_alpha=0, reg_lambda=1, scale_pos_weight=1, seed=None,\n",
              "             silent=None, subsample=1, verbosity=1)"
            ]
          },
          "execution_count": 23,
          "metadata": {},
          "output_type": "execute_result"
        }
      ]
    },
    {
      "cell_type": "code",
      "metadata": {
        "colab": {
          "base_uri": "https://localhost:8080/"
        },
        "id": "07WER6E71U04",
        "outputId": "c4926b30-9dc6-47a2-8099-a1ebd5283e2d"
      },
      "source": [
        "mean_absolute_error(y_test,xgb.predict(X_test))"
      ],
      "execution_count": null,
      "outputs": [
        {
          "data": {
            "text/plain": [
              "194.1823987742906"
            ]
          },
          "execution_count": 24,
          "metadata": {},
          "output_type": "execute_result"
        }
      ]
    },
    {
      "cell_type": "markdown",
      "metadata": {
        "id": "HGtFTTftgf_z"
      },
      "source": [
        "DL"
      ]
    },
    {
      "cell_type": "code",
      "metadata": {
        "id": "MK8b4caKX37A"
      },
      "source": [
        "X_train_series = X_train.values.reshape((X_train.shape[0], X_train.shape[1], 1))\n",
        "X_valid_series = X_valid.values.reshape((X_valid.shape[0], X_valid.shape[1], 1))"
      ],
      "execution_count": null,
      "outputs": []
    },
    {
      "cell_type": "code",
      "metadata": {
        "id": "mzxY57Ed79wE"
      },
      "source": [
        "from tensorflow.keras.models import Sequential\n",
        "from tensorflow.keras.layers import LSTM\n",
        "from tensorflow.keras.layers import Dense"
      ],
      "execution_count": null,
      "outputs": []
    },
    {
      "cell_type": "code",
      "metadata": {
        "colab": {
          "base_uri": "https://localhost:8080/"
        },
        "id": "F1QpbTUC78QU",
        "outputId": "a496a7f6-b5ab-4cf0-e1d2-2e3ece1c9081"
      },
      "source": [
        "model_lstm = Sequential()\n",
        "model_lstm.add(LSTM(50, activation='relu', input_shape=(X_train_series.shape[1], X_train_series.shape[2])))\n",
        "model_lstm.add(Dense(1))\n",
        "model_lstm.compile(loss='mae', optimizer='adam')\n",
        "model_lstm.summary()"
      ],
      "execution_count": null,
      "outputs": [
        {
          "name": "stdout",
          "output_type": "stream",
          "text": [
            "Model: \"sequential\"\n",
            "_________________________________________________________________\n",
            "Layer (type)                 Output Shape              Param #   \n",
            "=================================================================\n",
            "lstm (LSTM)                  (None, 50)                10400     \n",
            "_________________________________________________________________\n",
            "dense (Dense)                (None, 1)                 51        \n",
            "=================================================================\n",
            "Total params: 10,451\n",
            "Trainable params: 10,451\n",
            "Non-trainable params: 0\n",
            "_________________________________________________________________\n"
          ]
        }
      ]
    },
    {
      "cell_type": "code",
      "metadata": {
        "colab": {
          "background_save": true,
          "base_uri": "https://localhost:8080/"
        },
        "id": "n1PVghsP8lMC",
        "outputId": "ba281892-b0f9-4f34-87e3-418c506f2e79"
      },
      "source": [
        "m = model_lstm.fit(X_train_series, y_train, validation_data=(X_valid_series, y_valid), epochs=25)\n",
        "m"
      ],
      "execution_count": null,
      "outputs": [
        {
          "name": "stdout",
          "output_type": "stream",
          "text": [
            "Epoch 1/25\n",
            "288/288 [==============================] - 3s 8ms/step - loss: 225.2943 - val_loss: 319.7914\n",
            "Epoch 2/25\n",
            "288/288 [==============================] - 2s 7ms/step - loss: 222.2551 - val_loss: 320.5867\n",
            "Epoch 3/25\n",
            "288/288 [==============================] - 2s 7ms/step - loss: 222.2233 - val_loss: 313.8754\n",
            "Epoch 4/25\n",
            "288/288 [==============================] - 2s 7ms/step - loss: 221.9707 - val_loss: 322.3072\n",
            "Epoch 5/25\n",
            "288/288 [==============================] - 2s 7ms/step - loss: 221.7323 - val_loss: 318.5791\n",
            "Epoch 6/25\n",
            "288/288 [==============================] - 2s 7ms/step - loss: 221.7578 - val_loss: 321.7533\n",
            "Epoch 7/25\n",
            "288/288 [==============================] - 2s 7ms/step - loss: 222.6334 - val_loss: 317.6229\n",
            "Epoch 8/25\n",
            "288/288 [==============================] - 2s 7ms/step - loss: 222.0525 - val_loss: 322.2375\n",
            "Epoch 9/25\n",
            "288/288 [==============================] - 2s 7ms/step - loss: 222.1264 - val_loss: 317.4513\n",
            "Epoch 10/25\n",
            "288/288 [==============================] - 2s 7ms/step - loss: 221.9618 - val_loss: 319.0305\n",
            "Epoch 11/25\n",
            "288/288 [==============================] - 2s 7ms/step - loss: 221.8115 - val_loss: 320.6340\n",
            "Epoch 12/25\n",
            "288/288 [==============================] - 2s 7ms/step - loss: 222.2366 - val_loss: 317.8297\n",
            "Epoch 13/25\n",
            "288/288 [==============================] - 2s 7ms/step - loss: 222.8279 - val_loss: 317.9516\n",
            "Epoch 14/25\n",
            "288/288 [==============================] - 2s 7ms/step - loss: 222.3335 - val_loss: 319.0774\n",
            "Epoch 15/25\n",
            "288/288 [==============================] - 2s 7ms/step - loss: 222.2950 - val_loss: 314.6703\n",
            "Epoch 16/25\n",
            "288/288 [==============================] - 2s 7ms/step - loss: 222.4231 - val_loss: 313.2481\n",
            "Epoch 17/25\n",
            "288/288 [==============================] - 2s 7ms/step - loss: 222.5770 - val_loss: 316.9492\n",
            "Epoch 18/25\n",
            "288/288 [==============================] - 2s 7ms/step - loss: 222.3888 - val_loss: 313.5027\n",
            "Epoch 19/25\n",
            "288/288 [==============================] - 2s 7ms/step - loss: 222.3100 - val_loss: 317.3967\n",
            "Epoch 20/25\n",
            "288/288 [==============================] - 2s 7ms/step - loss: 222.1587 - val_loss: 318.4153\n",
            "Epoch 21/25\n",
            "288/288 [==============================] - 2s 7ms/step - loss: 222.0669 - val_loss: 318.7075\n",
            "Epoch 22/25\n",
            "288/288 [==============================] - 2s 7ms/step - loss: 221.8369 - val_loss: 312.4288\n",
            "Epoch 23/25\n",
            "288/288 [==============================] - 2s 7ms/step - loss: 221.7161 - val_loss: 318.9902\n",
            "Epoch 24/25\n",
            "288/288 [==============================] - 2s 7ms/step - loss: 221.7874 - val_loss: 317.6088\n",
            "Epoch 25/25\n",
            "288/288 [==============================] - 2s 7ms/step - loss: 221.4195 - val_loss: 320.1280\n"
          ]
        },
        {
          "data": {
            "text/plain": [
              "<keras.callbacks.History at 0x7fd4db68ee90>"
            ]
          },
          "execution_count": null,
          "metadata": {},
          "output_type": "execute_result"
        }
      ]
    },
    {
      "cell_type": "markdown",
      "metadata": {
        "id": "XsCT4XCbFQEL"
      },
      "source": [
        "it seem that Lightgbm is the best"
      ]
    },
    {
      "cell_type": "code",
      "metadata": {
        "colab": {
          "background_save": true
        },
        "id": "4cgxqG0sM9tX",
        "outputId": "8a077e6e-f813-4dbd-bcb6-6d0d514caa8b"
      },
      "source": [
        "test['count'] = ypred"
      ],
      "execution_count": null,
      "outputs": [
        {
          "name": "stderr",
          "output_type": "stream",
          "text": [
            "/usr/local/lib/python3.7/dist-packages/ipykernel_launcher.py:1: SettingWithCopyWarning: \n",
            "A value is trying to be set on a copy of a slice from a DataFrame.\n",
            "Try using .loc[row_indexer,col_indexer] = value instead\n",
            "\n",
            "See the caveats in the documentation: https://pandas.pydata.org/pandas-docs/stable/user_guide/indexing.html#returning-a-view-versus-a-copy\n",
            "  \"\"\"Entry point for launching an IPython kernel.\n"
          ]
        }
      ]
    },
    {
      "cell_type": "code",
      "metadata": {
        "colab": {
          "background_save": true
        },
        "id": "Zi1_ZJ6IE-ew"
      },
      "source": [
        "prediction= test.to_csv('Prediction',index=False)"
      ],
      "execution_count": null,
      "outputs": []
    }
  ]
}