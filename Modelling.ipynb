{
 "cells": [
  {
   "cell_type": "code",
   "execution_count": 29,
   "metadata": {
    "id": "sdvFpGWODgav"
   },
   "outputs": [],
   "source": [
    "import pandas as pd\n",
    "import numpy as np\n",
    "import matplotlib.pyplot as plt\n",
    "import seaborn as sns\n",
    "%matplotlib inline\n",
    "plt.style.use('fivethirtyeight')"
   ]
  },
  {
   "cell_type": "code",
   "execution_count": 30,
   "metadata": {
    "colab": {
     "base_uri": "https://localhost:8080/",
     "height": 370
    },
    "id": "dxOK9WEXEGUr",
    "outputId": "8c4e49dc-857e-43e6-f266-70f3ff299f04"
   },
   "outputs": [],
   "source": [
    "df = pd.read_csv(r'C:\\Users\\Dell\\Downloads\\bank_traffic_data.csv')"
   ]
  },
  {
   "cell_type": "code",
   "execution_count": 31,
   "metadata": {
    "id": "sjMm0ekPEePH"
   },
   "outputs": [
    {
     "data": {
      "text/html": [
       "<div>\n",
       "<style scoped>\n",
       "    .dataframe tbody tr th:only-of-type {\n",
       "        vertical-align: middle;\n",
       "    }\n",
       "\n",
       "    .dataframe tbody tr th {\n",
       "        vertical-align: top;\n",
       "    }\n",
       "\n",
       "    .dataframe thead th {\n",
       "        text-align: right;\n",
       "    }\n",
       "</style>\n",
       "<table border=\"1\" class=\"dataframe\">\n",
       "  <thead>\n",
       "    <tr style=\"text-align: right;\">\n",
       "      <th></th>\n",
       "      <th>timestamp</th>\n",
       "      <th>count</th>\n",
       "      <th>window</th>\n",
       "    </tr>\n",
       "  </thead>\n",
       "  <tbody>\n",
       "    <tr>\n",
       "      <th>0</th>\n",
       "      <td>2019-09-26 02:00:00+02:00</td>\n",
       "      <td>764</td>\n",
       "      <td>1</td>\n",
       "    </tr>\n",
       "    <tr>\n",
       "      <th>1</th>\n",
       "      <td>2019-09-27 02:00:00+02:00</td>\n",
       "      <td>0</td>\n",
       "      <td>1</td>\n",
       "    </tr>\n",
       "    <tr>\n",
       "      <th>2</th>\n",
       "      <td>2019-09-28 02:00:00+02:00</td>\n",
       "      <td>0</td>\n",
       "      <td>1</td>\n",
       "    </tr>\n",
       "    <tr>\n",
       "      <th>3</th>\n",
       "      <td>2019-09-29 02:00:00+02:00</td>\n",
       "      <td>1973</td>\n",
       "      <td>1</td>\n",
       "    </tr>\n",
       "    <tr>\n",
       "      <th>4</th>\n",
       "      <td>2019-09-30 02:00:00+02:00</td>\n",
       "      <td>1908</td>\n",
       "      <td>1</td>\n",
       "    </tr>\n",
       "  </tbody>\n",
       "</table>\n",
       "</div>"
      ],
      "text/plain": [
       "                   timestamp  count  window\n",
       "0  2019-09-26 02:00:00+02:00    764       1\n",
       "1  2019-09-27 02:00:00+02:00      0       1\n",
       "2  2019-09-28 02:00:00+02:00      0       1\n",
       "3  2019-09-29 02:00:00+02:00   1973       1\n",
       "4  2019-09-30 02:00:00+02:00   1908       1"
      ]
     },
     "execution_count": 31,
     "metadata": {},
     "output_type": "execute_result"
    }
   ],
   "source": [
    "df.head()"
   ]
  },
  {
   "cell_type": "code",
   "execution_count": 32,
   "metadata": {
    "id": "nfXKGV9_Eg-p"
   },
   "outputs": [
    {
     "data": {
      "text/plain": [
       "(10013, 3)"
      ]
     },
     "execution_count": 32,
     "metadata": {},
     "output_type": "execute_result"
    }
   ],
   "source": [
    "df.shape"
   ]
  },
  {
   "cell_type": "code",
   "execution_count": 33,
   "metadata": {
    "id": "GQ7BDjCxEkzP"
   },
   "outputs": [
    {
     "name": "stdout",
     "output_type": "stream",
     "text": [
      "<class 'pandas.core.frame.DataFrame'>\n",
      "RangeIndex: 10013 entries, 0 to 10012\n",
      "Data columns (total 3 columns):\n",
      " #   Column     Non-Null Count  Dtype \n",
      "---  ------     --------------  ----- \n",
      " 0   timestamp  10013 non-null  object\n",
      " 1   count      10013 non-null  int64 \n",
      " 2   window     10013 non-null  int64 \n",
      "dtypes: int64(2), object(1)\n",
      "memory usage: 234.8+ KB\n"
     ]
    }
   ],
   "source": [
    "df.info()"
   ]
  },
  {
   "cell_type": "code",
   "execution_count": 34,
   "metadata": {
    "id": "dS4iqkrYEqHJ"
   },
   "outputs": [],
   "source": [
    "df['timestamp'] = pd.to_datetime(df['timestamp'])"
   ]
  },
  {
   "cell_type": "code",
   "execution_count": 35,
   "metadata": {
    "id": "KDgbcI3SE6aH"
   },
   "outputs": [
    {
     "data": {
      "text/plain": [
       "0"
      ]
     },
     "execution_count": 35,
     "metadata": {},
     "output_type": "execute_result"
    }
   ],
   "source": [
    "df.duplicated().sum()"
   ]
  },
  {
   "cell_type": "code",
   "execution_count": 36,
   "metadata": {
    "id": "tWNFXiZCGGaD"
   },
   "outputs": [
    {
     "name": "stdout",
     "output_type": "stream",
     "text": [
      "<class 'pandas.core.frame.DataFrame'>\n",
      "RangeIndex: 10013 entries, 0 to 10012\n",
      "Data columns (total 3 columns):\n",
      " #   Column     Non-Null Count  Dtype                                \n",
      "---  ------     --------------  -----                                \n",
      " 0   timestamp  10013 non-null  datetime64[ns, pytz.FixedOffset(120)]\n",
      " 1   count      10013 non-null  int64                                \n",
      " 2   window     10013 non-null  int64                                \n",
      "dtypes: datetime64[ns, pytz.FixedOffset(120)](1), int64(2)\n",
      "memory usage: 234.8 KB\n"
     ]
    }
   ],
   "source": [
    "df.info()"
   ]
  },
  {
   "cell_type": "code",
   "execution_count": 37,
   "metadata": {
    "id": "zBGOz5cbInQa"
   },
   "outputs": [],
   "source": [
    "df=df.sort_values(by=['timestamp','window']).reset_index(drop=True)"
   ]
  },
  {
   "cell_type": "code",
   "execution_count": 38,
   "metadata": {
    "id": "Zi53Gj3tJFmz"
   },
   "outputs": [
    {
     "data": {
      "text/html": [
       "<div>\n",
       "<style scoped>\n",
       "    .dataframe tbody tr th:only-of-type {\n",
       "        vertical-align: middle;\n",
       "    }\n",
       "\n",
       "    .dataframe tbody tr th {\n",
       "        vertical-align: top;\n",
       "    }\n",
       "\n",
       "    .dataframe thead th {\n",
       "        text-align: right;\n",
       "    }\n",
       "</style>\n",
       "<table border=\"1\" class=\"dataframe\">\n",
       "  <thead>\n",
       "    <tr style=\"text-align: right;\">\n",
       "      <th></th>\n",
       "      <th>timestamp</th>\n",
       "      <th>count</th>\n",
       "      <th>window</th>\n",
       "    </tr>\n",
       "  </thead>\n",
       "  <tbody>\n",
       "    <tr>\n",
       "      <th>0</th>\n",
       "      <td>2019-09-26 02:00:00+02:00</td>\n",
       "      <td>764</td>\n",
       "      <td>1</td>\n",
       "    </tr>\n",
       "    <tr>\n",
       "      <th>1</th>\n",
       "      <td>2019-09-26 02:00:00+02:00</td>\n",
       "      <td>320</td>\n",
       "      <td>2</td>\n",
       "    </tr>\n",
       "    <tr>\n",
       "      <th>2</th>\n",
       "      <td>2019-09-26 02:00:00+02:00</td>\n",
       "      <td>113</td>\n",
       "      <td>3</td>\n",
       "    </tr>\n",
       "    <tr>\n",
       "      <th>3</th>\n",
       "      <td>2019-09-26 02:00:00+02:00</td>\n",
       "      <td>101</td>\n",
       "      <td>4</td>\n",
       "    </tr>\n",
       "    <tr>\n",
       "      <th>4</th>\n",
       "      <td>2019-09-26 02:00:00+02:00</td>\n",
       "      <td>101</td>\n",
       "      <td>5</td>\n",
       "    </tr>\n",
       "  </tbody>\n",
       "</table>\n",
       "</div>"
      ],
      "text/plain": [
       "                  timestamp  count  window\n",
       "0 2019-09-26 02:00:00+02:00    764       1\n",
       "1 2019-09-26 02:00:00+02:00    320       2\n",
       "2 2019-09-26 02:00:00+02:00    113       3\n",
       "3 2019-09-26 02:00:00+02:00    101       4\n",
       "4 2019-09-26 02:00:00+02:00    101       5"
      ]
     },
     "execution_count": 38,
     "metadata": {},
     "output_type": "execute_result"
    }
   ],
   "source": [
    "df.head()"
   ]
  },
  {
   "cell_type": "code",
   "execution_count": 39,
   "metadata": {
    "id": "U84xm-HcSarO"
   },
   "outputs": [],
   "source": [
    "X_train ,y_train = df.drop('count',axis=1),df['count']"
   ]
  },
  {
   "cell_type": "markdown",
   "metadata": {
    "id": "s10l5edWSNUJ"
   },
   "source": [
    "ML"
   ]
  },
  {
   "cell_type": "code",
   "execution_count": 40,
   "metadata": {
    "id": "CiZ3-GTjRdRh"
   },
   "outputs": [
    {
     "name": "stderr",
     "output_type": "stream",
     "text": [
      "C:\\Users\\Dell\\Anaconda44\\lib\\site-packages\\ipykernel_launcher.py:6: FutureWarning: Series.dt.weekofyear and Series.dt.week have been deprecated.  Please use Series.dt.isocalendar().week instead.\n",
      "  \n"
     ]
    }
   ],
   "source": [
    "X_train['day'] = X_train['timestamp'].dt.day\n",
    "X_train['month'] = X_train['timestamp'].dt.month\n",
    "X_train['year'] = X_train['timestamp'].dt.year\n",
    "X_train['dayofweek'] = X_train['timestamp'].dt.dayofweek\n",
    "X_train['dayofyear'] = X_train['timestamp'].dt.dayofyear\n",
    "X_train['weekofyear'] = X_train['timestamp'].dt.weekofyear\n",
    "X_train['is_wknd'] = X_train['timestamp'].dt.weekday // 4\n",
    "X_train['is_month_start'] = X_train['timestamp'].dt.is_month_start.astype(int)\n",
    "X_train['is_month_end'] = X_train['timestamp'].dt.is_month_end.astype(int)\n",
    "X_train.drop('timestamp',axis=1,inplace=True)"
   ]
  },
  {
   "cell_type": "code",
   "execution_count": 41,
   "metadata": {
    "id": "5mEk3n1wiXO6"
   },
   "outputs": [
    {
     "data": {
      "text/html": [
       "<div>\n",
       "<style scoped>\n",
       "    .dataframe tbody tr th:only-of-type {\n",
       "        vertical-align: middle;\n",
       "    }\n",
       "\n",
       "    .dataframe tbody tr th {\n",
       "        vertical-align: top;\n",
       "    }\n",
       "\n",
       "    .dataframe thead th {\n",
       "        text-align: right;\n",
       "    }\n",
       "</style>\n",
       "<table border=\"1\" class=\"dataframe\">\n",
       "  <thead>\n",
       "    <tr style=\"text-align: right;\">\n",
       "      <th></th>\n",
       "      <th>window</th>\n",
       "      <th>day</th>\n",
       "      <th>month</th>\n",
       "      <th>year</th>\n",
       "      <th>dayofweek</th>\n",
       "      <th>dayofyear</th>\n",
       "      <th>weekofyear</th>\n",
       "      <th>is_wknd</th>\n",
       "      <th>is_month_start</th>\n",
       "      <th>is_month_end</th>\n",
       "    </tr>\n",
       "  </thead>\n",
       "  <tbody>\n",
       "    <tr>\n",
       "      <th>0</th>\n",
       "      <td>1</td>\n",
       "      <td>26</td>\n",
       "      <td>9</td>\n",
       "      <td>2019</td>\n",
       "      <td>3</td>\n",
       "      <td>269</td>\n",
       "      <td>39</td>\n",
       "      <td>0</td>\n",
       "      <td>0</td>\n",
       "      <td>0</td>\n",
       "    </tr>\n",
       "    <tr>\n",
       "      <th>1</th>\n",
       "      <td>2</td>\n",
       "      <td>26</td>\n",
       "      <td>9</td>\n",
       "      <td>2019</td>\n",
       "      <td>3</td>\n",
       "      <td>269</td>\n",
       "      <td>39</td>\n",
       "      <td>0</td>\n",
       "      <td>0</td>\n",
       "      <td>0</td>\n",
       "    </tr>\n",
       "    <tr>\n",
       "      <th>2</th>\n",
       "      <td>3</td>\n",
       "      <td>26</td>\n",
       "      <td>9</td>\n",
       "      <td>2019</td>\n",
       "      <td>3</td>\n",
       "      <td>269</td>\n",
       "      <td>39</td>\n",
       "      <td>0</td>\n",
       "      <td>0</td>\n",
       "      <td>0</td>\n",
       "    </tr>\n",
       "    <tr>\n",
       "      <th>3</th>\n",
       "      <td>4</td>\n",
       "      <td>26</td>\n",
       "      <td>9</td>\n",
       "      <td>2019</td>\n",
       "      <td>3</td>\n",
       "      <td>269</td>\n",
       "      <td>39</td>\n",
       "      <td>0</td>\n",
       "      <td>0</td>\n",
       "      <td>0</td>\n",
       "    </tr>\n",
       "    <tr>\n",
       "      <th>4</th>\n",
       "      <td>5</td>\n",
       "      <td>26</td>\n",
       "      <td>9</td>\n",
       "      <td>2019</td>\n",
       "      <td>3</td>\n",
       "      <td>269</td>\n",
       "      <td>39</td>\n",
       "      <td>0</td>\n",
       "      <td>0</td>\n",
       "      <td>0</td>\n",
       "    </tr>\n",
       "  </tbody>\n",
       "</table>\n",
       "</div>"
      ],
      "text/plain": [
       "   window  day  month  year  dayofweek  dayofyear  weekofyear  is_wknd  \\\n",
       "0       1   26      9  2019          3        269          39        0   \n",
       "1       2   26      9  2019          3        269          39        0   \n",
       "2       3   26      9  2019          3        269          39        0   \n",
       "3       4   26      9  2019          3        269          39        0   \n",
       "4       5   26      9  2019          3        269          39        0   \n",
       "\n",
       "   is_month_start  is_month_end  \n",
       "0               0             0  \n",
       "1               0             0  \n",
       "2               0             0  \n",
       "3               0             0  \n",
       "4               0             0  "
      ]
     },
     "execution_count": 41,
     "metadata": {},
     "output_type": "execute_result"
    }
   ],
   "source": [
    "X_train.head()"
   ]
  },
  {
   "cell_type": "code",
   "execution_count": 42,
   "metadata": {
    "id": "i5b9tgdQUGR0"
   },
   "outputs": [],
   "source": [
    "from sklearn.model_selection import cross_val_score\n",
    "from xgboost import XGBRegressor\n",
    "from lightgbm import LGBMRegressor\n",
    "from sklearn.metrics import mean_absolute_error"
   ]
  },
  {
   "cell_type": "code",
   "execution_count": 43,
   "metadata": {
    "id": "hFam8qHfWqrE"
   },
   "outputs": [
    {
     "data": {
      "text/plain": [
       "99.47014671229458"
      ]
     },
     "execution_count": 43,
     "metadata": {},
     "output_type": "execute_result"
    }
   ],
   "source": [
    "xgb = XGBRegressor(n_estimators=8)\n",
    "score = cross_val_score(xgb,X_train,y_train,scoring='neg_mean_absolute_error',cv=5,n_jobs=-1)\n",
    "-score.mean()"
   ]
  },
  {
   "cell_type": "code",
   "execution_count": 44,
   "metadata": {
    "id": "vvt35QxfXWK4"
   },
   "outputs": [
    {
     "data": {
      "text/plain": [
       "99.24757966562963"
      ]
     },
     "execution_count": 44,
     "metadata": {},
     "output_type": "execute_result"
    }
   ],
   "source": [
    "lgb = LGBMRegressor(n_estimators=40)\n",
    "score = cross_val_score(lgb,X_train,y_train,scoring='neg_mean_absolute_error',cv=5,n_jobs=-1)\n",
    "-score.mean()"
   ]
  },
  {
   "cell_type": "markdown",
   "metadata": {
    "id": "HGtFTTftgf_z"
   },
   "source": [
    "DL"
   ]
  },
  {
   "cell_type": "code",
   "execution_count": 45,
   "metadata": {
    "id": "MK8b4caKX37A"
   },
   "outputs": [],
   "source": [
    "X_train_series = X_train.values.reshape((X_train.shape[0], X_train.shape[1], 1))\n",
    "y_train = np.array(y_train)"
   ]
  },
  {
   "cell_type": "code",
   "execution_count": 46,
   "metadata": {
    "id": "mzxY57Ed79wE"
   },
   "outputs": [],
   "source": [
    "from tensorflow.keras.models import Sequential\n",
    "from tensorflow.keras.layers import LSTM\n",
    "from tensorflow.keras.layers import Dense"
   ]
  },
  {
   "cell_type": "code",
   "execution_count": 47,
   "metadata": {
    "id": "F1QpbTUC78QU"
   },
   "outputs": [
    {
     "name": "stdout",
     "output_type": "stream",
     "text": [
      "Model: \"sequential_1\"\n",
      "_________________________________________________________________\n",
      "Layer (type)                 Output Shape              Param #   \n",
      "=================================================================\n",
      "lstm_1 (LSTM)                (None, 50)                10400     \n",
      "_________________________________________________________________\n",
      "dense_1 (Dense)              (None, 1)                 51        \n",
      "=================================================================\n",
      "Total params: 10,451\n",
      "Trainable params: 10,451\n",
      "Non-trainable params: 0\n",
      "_________________________________________________________________\n"
     ]
    }
   ],
   "source": [
    "model_lstm = Sequential()\n",
    "model_lstm.add(LSTM(50, activation='relu', input_shape=(X_train_series.shape[1], X_train_series.shape[2])))\n",
    "model_lstm.add(Dense(1))\n",
    "model_lstm.compile(loss='mae', optimizer='adam')\n",
    "model_lstm.summary()"
   ]
  },
  {
   "cell_type": "code",
   "execution_count": 48,
   "metadata": {
    "id": "n1PVghsP8lMC",
    "scrolled": false
   },
   "outputs": [
    {
     "name": "stdout",
     "output_type": "stream",
     "text": [
      "Train on 9011 samples, validate on 1002 samples\n",
      "Epoch 1/25\n",
      "9011/9011 [==============================] - 8s 845us/sample - loss: 221.5255 - val_loss: 299.4949\n",
      "Epoch 2/25\n",
      "9011/9011 [==============================] - 5s 605us/sample - loss: 220.4264 - val_loss: 299.3152\n",
      "Epoch 3/25\n",
      "9011/9011 [==============================] - 5s 519us/sample - loss: 218.7129 - val_loss: 295.0252\n",
      "Epoch 4/25\n",
      "9011/9011 [==============================] - 5s 499us/sample - loss: 202.8552 - val_loss: 268.1203\n",
      "Epoch 5/25\n",
      "9011/9011 [==============================] - 5s 536us/sample - loss: 196.4260 - val_loss: 270.4336\n",
      "Epoch 6/25\n",
      "9011/9011 [==============================] - 5s 544us/sample - loss: 194.9934 - val_loss: 274.8490\n",
      "Epoch 7/25\n",
      "9011/9011 [==============================] - 5s 546us/sample - loss: 195.0288 - val_loss: 266.8528\n",
      "Epoch 8/25\n",
      "9011/9011 [==============================] - 5s 531us/sample - loss: 194.5379 - val_loss: 267.4036\n",
      "Epoch 9/25\n",
      "9011/9011 [==============================] - 5s 559us/sample - loss: 194.3795 - val_loss: 267.4178\n",
      "Epoch 10/25\n",
      "9011/9011 [==============================] - 4s 495us/sample - loss: 193.8625 - val_loss: 267.1664\n",
      "Epoch 11/25\n",
      "9011/9011 [==============================] - 5s 540us/sample - loss: 193.8076 - val_loss: 269.1794\n",
      "Epoch 12/25\n",
      "9011/9011 [==============================] - 4s 442us/sample - loss: 193.4620 - val_loss: 275.6436\n",
      "Epoch 13/25\n",
      "9011/9011 [==============================] - 3s 335us/sample - loss: 192.8909 - val_loss: 269.9509\n",
      "Epoch 14/25\n",
      "9011/9011 [==============================] - 5s 540us/sample - loss: 198.4830 - val_loss: 271.4734\n",
      "Epoch 15/25\n",
      "9011/9011 [==============================] - 3s 369us/sample - loss: 194.8476 - val_loss: 268.4775\n",
      "Epoch 16/25\n",
      "9011/9011 [==============================] - 5s 576us/sample - loss: 190.2512 - val_loss: 270.8179\n",
      "Epoch 17/25\n",
      "9011/9011 [==============================] - 5s 513us/sample - loss: 188.6429 - val_loss: 256.9696\n",
      "Epoch 18/25\n",
      "9011/9011 [==============================] - 5s 569us/sample - loss: 186.8304 - val_loss: 302.6252\n",
      "Epoch 19/25\n",
      "9011/9011 [==============================] - 4s 454us/sample - loss: 242.6802 - val_loss: 311.6812\n",
      "Epoch 20/25\n",
      "9011/9011 [==============================] - 5s 512us/sample - loss: 223.6964 - val_loss: 301.9562\n",
      "Epoch 21/25\n",
      "9011/9011 [==============================] - 4s 393us/sample - loss: 221.9407 - val_loss: 303.1047\n",
      "Epoch 22/25\n",
      "9011/9011 [==============================] - 5s 542us/sample - loss: 221.8448 - val_loss: 303.9015\n",
      "Epoch 23/25\n",
      "9011/9011 [==============================] - 4s 460us/sample - loss: 221.4228 - val_loss: 296.2275\n",
      "Epoch 24/25\n",
      "9011/9011 [==============================] - 5s 592us/sample - loss: 220.6189 - val_loss: 300.3067\n",
      "Epoch 25/25\n",
      "9011/9011 [==============================] - 5s 588us/sample - loss: 221.6313 - val_loss: 299.3299\n"
     ]
    }
   ],
   "source": [
    "m = model_lstm.fit(X_train_series,y_train,validation_split=0.1 ,epochs=25)"
   ]
  },
  {
   "cell_type": "markdown",
   "metadata": {
    "id": "XsCT4XCbFQEL"
   },
   "source": [
    "**it seem that Lightgbm and Xgboost are the best**"
   ]
  },
  {
   "cell_type": "markdown",
   "metadata": {
    "id": "4cgxqG0sM9tX"
   },
   "source": [
    "************************************************"
   ]
  },
  {
   "cell_type": "markdown",
   "metadata": {},
   "source": [
    "# Test Data"
   ]
  },
  {
   "cell_type": "code",
   "execution_count": 49,
   "metadata": {
    "id": "Zi1_ZJ6IE-ew"
   },
   "outputs": [
    {
     "name": "stderr",
     "output_type": "stream",
     "text": [
      "C:\\Users\\Dell\\Anaconda44\\lib\\site-packages\\pandas\\core\\arrays\\datetimes.py:694: PerformanceWarning: Non-vectorized DateOffset being applied to Series or DatetimeIndex\n",
      "  PerformanceWarning,\n"
     ]
    }
   ],
   "source": [
    "july_idx = df[df['timestamp'] == '2021-07-01 02:00:00+02:00'].index[0]\n",
    "july = df[july_idx:].reset_index(drop=True)\n",
    "augest = july.copy()\n",
    "augest['timestamp'] = augest['timestamp']+pd.DateOffset(month=8)"
   ]
  },
  {
   "cell_type": "code",
   "execution_count": 50,
   "metadata": {},
   "outputs": [
    {
     "name": "stderr",
     "output_type": "stream",
     "text": [
      "C:\\Users\\Dell\\Anaconda44\\lib\\site-packages\\ipykernel_launcher.py:6: FutureWarning: Series.dt.weekofyear and Series.dt.week have been deprecated.  Please use Series.dt.isocalendar().week instead.\n",
      "  \n"
     ]
    }
   ],
   "source": [
    "augest['day'] = augest['timestamp'].dt.day\n",
    "augest['month'] = augest['timestamp'].dt.month\n",
    "augest['year'] = augest['timestamp'].dt.year\n",
    "augest['dayofweek'] = augest['timestamp'].dt.dayofweek\n",
    "augest['dayofyear'] = augest['timestamp'].dt.dayofyear\n",
    "augest['weekofyear'] = augest['timestamp'].dt.weekofyear\n",
    "augest['is_wknd'] = augest['timestamp'].dt.weekday // 4\n",
    "augest['is_month_start'] = augest['timestamp'].dt.is_month_start.astype(int)\n",
    "augest['is_month_end'] = augest['timestamp'].dt.is_month_end.astype(int)"
   ]
  },
  {
   "cell_type": "code",
   "execution_count": 51,
   "metadata": {},
   "outputs": [
    {
     "data": {
      "text/html": [
       "<div>\n",
       "<style scoped>\n",
       "    .dataframe tbody tr th:only-of-type {\n",
       "        vertical-align: middle;\n",
       "    }\n",
       "\n",
       "    .dataframe tbody tr th {\n",
       "        vertical-align: top;\n",
       "    }\n",
       "\n",
       "    .dataframe thead th {\n",
       "        text-align: right;\n",
       "    }\n",
       "</style>\n",
       "<table border=\"1\" class=\"dataframe\">\n",
       "  <thead>\n",
       "    <tr style=\"text-align: right;\">\n",
       "      <th></th>\n",
       "      <th>timestamp</th>\n",
       "      <th>count</th>\n",
       "      <th>window</th>\n",
       "      <th>day</th>\n",
       "      <th>month</th>\n",
       "      <th>year</th>\n",
       "      <th>dayofweek</th>\n",
       "      <th>dayofyear</th>\n",
       "      <th>weekofyear</th>\n",
       "      <th>is_wknd</th>\n",
       "      <th>is_month_start</th>\n",
       "      <th>is_month_end</th>\n",
       "    </tr>\n",
       "  </thead>\n",
       "  <tbody>\n",
       "    <tr>\n",
       "      <th>0</th>\n",
       "      <td>2021-08-01 02:00:00+02:00</td>\n",
       "      <td>0</td>\n",
       "      <td>1</td>\n",
       "      <td>1</td>\n",
       "      <td>8</td>\n",
       "      <td>2021</td>\n",
       "      <td>6</td>\n",
       "      <td>213</td>\n",
       "      <td>30</td>\n",
       "      <td>1</td>\n",
       "      <td>1</td>\n",
       "      <td>0</td>\n",
       "    </tr>\n",
       "    <tr>\n",
       "      <th>1</th>\n",
       "      <td>2021-08-01 02:00:00+02:00</td>\n",
       "      <td>0</td>\n",
       "      <td>2</td>\n",
       "      <td>1</td>\n",
       "      <td>8</td>\n",
       "      <td>2021</td>\n",
       "      <td>6</td>\n",
       "      <td>213</td>\n",
       "      <td>30</td>\n",
       "      <td>1</td>\n",
       "      <td>1</td>\n",
       "      <td>0</td>\n",
       "    </tr>\n",
       "    <tr>\n",
       "      <th>2</th>\n",
       "      <td>2021-08-01 02:00:00+02:00</td>\n",
       "      <td>0</td>\n",
       "      <td>3</td>\n",
       "      <td>1</td>\n",
       "      <td>8</td>\n",
       "      <td>2021</td>\n",
       "      <td>6</td>\n",
       "      <td>213</td>\n",
       "      <td>30</td>\n",
       "      <td>1</td>\n",
       "      <td>1</td>\n",
       "      <td>0</td>\n",
       "    </tr>\n",
       "    <tr>\n",
       "      <th>3</th>\n",
       "      <td>2021-08-01 02:00:00+02:00</td>\n",
       "      <td>0</td>\n",
       "      <td>6</td>\n",
       "      <td>1</td>\n",
       "      <td>8</td>\n",
       "      <td>2021</td>\n",
       "      <td>6</td>\n",
       "      <td>213</td>\n",
       "      <td>30</td>\n",
       "      <td>1</td>\n",
       "      <td>1</td>\n",
       "      <td>0</td>\n",
       "    </tr>\n",
       "    <tr>\n",
       "      <th>4</th>\n",
       "      <td>2021-08-01 02:00:00+02:00</td>\n",
       "      <td>0</td>\n",
       "      <td>7</td>\n",
       "      <td>1</td>\n",
       "      <td>8</td>\n",
       "      <td>2021</td>\n",
       "      <td>6</td>\n",
       "      <td>213</td>\n",
       "      <td>30</td>\n",
       "      <td>1</td>\n",
       "      <td>1</td>\n",
       "      <td>0</td>\n",
       "    </tr>\n",
       "  </tbody>\n",
       "</table>\n",
       "</div>"
      ],
      "text/plain": [
       "                  timestamp  count  window  day  month  year  dayofweek  \\\n",
       "0 2021-08-01 02:00:00+02:00      0       1    1      8  2021          6   \n",
       "1 2021-08-01 02:00:00+02:00      0       2    1      8  2021          6   \n",
       "2 2021-08-01 02:00:00+02:00      0       3    1      8  2021          6   \n",
       "3 2021-08-01 02:00:00+02:00      0       6    1      8  2021          6   \n",
       "4 2021-08-01 02:00:00+02:00      0       7    1      8  2021          6   \n",
       "\n",
       "   dayofyear  weekofyear  is_wknd  is_month_start  is_month_end  \n",
       "0        213          30        1               1             0  \n",
       "1        213          30        1               1             0  \n",
       "2        213          30        1               1             0  \n",
       "3        213          30        1               1             0  \n",
       "4        213          30        1               1             0  "
      ]
     },
     "execution_count": 51,
     "metadata": {},
     "output_type": "execute_result"
    }
   ],
   "source": [
    "augest.head()"
   ]
  },
  {
   "cell_type": "code",
   "execution_count": 52,
   "metadata": {},
   "outputs": [],
   "source": [
    "X = augest.drop(['timestamp','count'],axis=1)"
   ]
  },
  {
   "cell_type": "markdown",
   "metadata": {},
   "source": [
    "**predict using Xgb**"
   ]
  },
  {
   "cell_type": "code",
   "execution_count": 53,
   "metadata": {},
   "outputs": [
    {
     "data": {
      "text/plain": [
       "XGBRegressor(base_score=0.5, booster='gbtree', colsample_bylevel=1,\n",
       "             colsample_bynode=1, colsample_bytree=1, gamma=0, gpu_id=-1,\n",
       "             importance_type='gain', interaction_constraints='',\n",
       "             learning_rate=0.300000012, max_delta_step=0, max_depth=6,\n",
       "             min_child_weight=1, missing=nan, monotone_constraints='()',\n",
       "             n_estimators=8, n_jobs=8, num_parallel_tree=1, random_state=0,\n",
       "             reg_alpha=0, reg_lambda=1, scale_pos_weight=1, subsample=1,\n",
       "             tree_method='exact', validate_parameters=1, verbosity=None)"
      ]
     },
     "execution_count": 53,
     "metadata": {},
     "output_type": "execute_result"
    }
   ],
   "source": [
    "xgb.fit(X_train,y_train)"
   ]
  },
  {
   "cell_type": "code",
   "execution_count": 54,
   "metadata": {},
   "outputs": [],
   "source": [
    "pred = (xgb.predict(X)).round()"
   ]
  },
  {
   "cell_type": "markdown",
   "metadata": {},
   "source": [
    "# Submission Data"
   ]
  },
  {
   "cell_type": "code",
   "execution_count": 55,
   "metadata": {},
   "outputs": [],
   "source": [
    "augest['count'] = pred"
   ]
  },
  {
   "cell_type": "code",
   "execution_count": 56,
   "metadata": {},
   "outputs": [],
   "source": [
    "final_prediction= augest[['timestamp','count']].to_csv('Prediction',index=False)"
   ]
  }
 ],
 "metadata": {
  "colab": {
   "collapsed_sections": [],
   "name": "Modelling.ipynb",
   "provenance": []
  },
  "kernelspec": {
   "display_name": "Python 3",
   "language": "python",
   "name": "python3"
  },
  "language_info": {
   "codemirror_mode": {
    "name": "ipython",
    "version": 3
   },
   "file_extension": ".py",
   "mimetype": "text/x-python",
   "name": "python",
   "nbconvert_exporter": "python",
   "pygments_lexer": "ipython3",
   "version": "3.7.3"
  }
 },
 "nbformat": 4,
 "nbformat_minor": 1
}
